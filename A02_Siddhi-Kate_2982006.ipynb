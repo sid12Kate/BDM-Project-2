{
 "cells": [
  {
   "cell_type": "code",
   "execution_count": 1,
   "metadata": {},
   "outputs": [],
   "source": [
    "downloads_RDD = sc.textFile(\"file:///home/siddhi123/assignment_01_bdm/*.gz\")"
   ]
  },
  {
   "cell_type": "code",
   "execution_count": 2,
   "metadata": {},
   "outputs": [],
   "source": [
    "downloads_RDD = downloads_RDD.map(lambda x: x.split(','))"
   ]
  },
  {
   "cell_type": "code",
   "execution_count": 3,
   "metadata": {},
   "outputs": [],
   "source": [
    "def remove_quotation(x):\n",
    "    return([xx.replace('\"', '') for xx in x])"
   ]
  },
  {
   "cell_type": "code",
   "execution_count": 4,
   "metadata": {},
   "outputs": [],
   "source": [
    "downloads_RDD = downloads_RDD.map(remove_quotation)"
   ]
  },
  {
   "cell_type": "code",
   "execution_count": 5,
   "metadata": {},
   "outputs": [],
   "source": [
    "downloadsDF = spark.createDataFrame(data = downloads_RDD.filter(lambda x:x[0]!='date'),\n",
    "schema = downloads_RDD.filter(lambda x:x[0]=='date').collect()[0])"
   ]
  },
  {
   "cell_type": "code",
   "execution_count": 6,
   "metadata": {},
   "outputs": [],
   "source": [
    "from pyspark.sql.types import IntegerType\n",
    "downloadsDF = downloadsDF.withColumn(\"size\",downloadsDF[\"size\"].cast(IntegerType()))"
   ]
  },
  {
   "cell_type": "code",
   "execution_count": 6,
   "metadata": {},
   "outputs": [],
   "source": [
    "downloadsDF.createOrReplaceTempView('packages')"
   ]
  },
  {
   "cell_type": "code",
   "execution_count": 8,
   "metadata": {},
   "outputs": [],
   "source": [
    "#Question 1\n",
    "query_results = spark.sql('SELECT package, COUNT(package) AS count FROM packages WHERE package=\"ggplot2\" GROUP BY package')\\\n",
    "    .write.format(\"org.apache.spark.sql.cassandra\")\\\n",
    "    .options(table=\"question01\",keyspace=\"assignment_02\")\\\n",
    "    .save(mode=\"append\")"
   ]
  },
  {
   "cell_type": "code",
   "execution_count": 10,
   "metadata": {},
   "outputs": [
    {
     "name": "stdout",
     "output_type": "stream",
     "text": [
      "+-------+-----+\n",
      "|package|count|\n",
      "+-------+-----+\n",
      "|ggplot2|38729|\n",
      "+-------+-----+\n",
      "\n"
     ]
    }
   ],
   "source": [
    "query_results = spark.sql('SELECT package, COUNT(package) AS count FROM packages WHERE package=\"ggplot2\" GROUP BY package')\n",
    "query_results.show()"
   ]
  },
  {
   "cell_type": "code",
   "execution_count": 16,
   "metadata": {},
   "outputs": [],
   "source": [
    "#Question 3\n",
    "query_results = spark.sql('select distinct package, size FROM packages order by size desc limit 10')\\\n",
    "    .write.format(\"org.apache.spark.sql.cassandra\")\\\n",
    "    .options(table=\"question03\",keyspace=\"assignment_02\")\\\n",
    "    .save(mode=\"append\")"
   ]
  },
  {
   "cell_type": "code",
   "execution_count": 12,
   "metadata": {},
   "outputs": [
    {
     "name": "stdout",
     "output_type": "stream",
     "text": [
      "+-------+---------+\n",
      "|package|     size|\n",
      "+-------+---------+\n",
      "|    h2o|122267950|\n",
      "|    h2o|122267949|\n",
      "|    h2o|122267948|\n",
      "|    h2o|122267946|\n",
      "|    h2o|122267940|\n",
      "|    h2o|122133439|\n",
      "|    h2o|122133438|\n",
      "|    h2o|122133437|\n",
      "|    h2o|122133435|\n",
      "|    h2o|122133429|\n",
      "+-------+---------+\n",
      "\n"
     ]
    }
   ],
   "source": [
    "query_results = spark.sql('select distinct package, size FROM packages order by size desc limit 10')\n",
    "query_results.show()"
   ]
  },
  {
   "cell_type": "code",
   "execution_count": 17,
   "metadata": {},
   "outputs": [],
   "source": [
    "#Question 4\n",
    "query_results = spark.sql('SELECT package, COUNT(package) AS count FROM packages GROUP BY package ORDER BY COUNT(package) DESC limit 10')\\\n",
    "    .write.format(\"org.apache.spark.sql.cassandra\")\\\n",
    "    .options(table=\"question04\",keyspace=\"assignment_02\")\\\n",
    "    .save(mode=\"append\")"
   ]
  },
  {
   "cell_type": "code",
   "execution_count": 7,
   "metadata": {},
   "outputs": [
    {
     "name": "stdout",
     "output_type": "stream",
     "text": [
      "+-------+-----+\n",
      "|package|count|\n",
      "+-------+-----+\n",
      "|  rlang|55592|\n",
      "|   Rcpp|50448|\n",
      "| tibble|45020|\n",
      "| pillar|40948|\n",
      "|  dplyr|39443|\n",
      "|stringr|39439|\n",
      "|     R6|39063|\n",
      "|ggplot2|38729|\n",
      "|   yaml|38422|\n",
      "|  fansi|37598|\n",
      "+-------+-----+\n",
      "\n"
     ]
    }
   ],
   "source": [
    "query_results = spark.sql('SELECT package, COUNT(package) AS count FROM packages GROUP BY package ORDER BY COUNT(package)\\\n",
    "                 DESC limit 10')\n",
    "query_results.show()"
   ]
  },
  {
   "cell_type": "code",
   "execution_count": 8,
   "metadata": {},
   "outputs": [],
   "source": [
    "# Question 5\n",
    "query_results = spark.sql('SELECT time, COUNT(time) AS count  FROM packages GROUP BY time ORDER BY COUNT(time) DESC limit 4 ')\\\n",
    "    .write.format(\"org.apache.spark.sql.cassandra\")\\\n",
    "    .options(table=\"question05\",keyspace=\"assignment_02\")\\\n",
    "    .save(mode=\"append\")"
   ]
  },
  {
   "cell_type": "code",
   "execution_count": 10,
   "metadata": {},
   "outputs": [],
   "source": [
    "#Question 6\n",
    "query_results = spark.sql('SELECT package,COUNT(package) AS count FROM packages WHERE country=\"GB\" GROUP BY package ORDER BY COUNT(package) DESC limit 5')\\\n",
    "    .write.format(\"org.apache.spark.sql.cassandra\")\\\n",
    "    .options(table=\"question06\",keyspace=\"assignment_02\")\\\n",
    "    .save(mode=\"append\")"
   ]
  },
  {
   "cell_type": "code",
   "execution_count": 11,
   "metadata": {},
   "outputs": [],
   "source": [
    "#Question 7\n",
    "query_results = spark.sql('SELECT ip_id, COUNT(ip_id) AS count  FROM packages GROUP BY ip_id ORDER BY COUNT(ip_id) DESC LIMIT 5')\\\n",
    "    .write.format(\"org.apache.spark.sql.cassandra\")\\\n",
    "    .options(table=\"question07\",keyspace=\"assignment_02\")\\\n",
    "    .save(mode=\"append\")\n"
   ]
  },
  {
   "cell_type": "code",
   "execution_count": 13,
   "metadata": {},
   "outputs": [],
   "source": [
    "#Question 8\n",
    "query_results = spark.sql('SELECT r_os, COUNT(r_os) AS count FROM packages GROUP BY r_os ORDER BY COUNT(r_os) DESC limit 3')\\\n",
    "    .write.format(\"org.apache.spark.sql.cassandra\")\\\n",
    "    .options(table=\"question08\",keyspace=\"assignment_02\")\\\n",
    "    .save(mode=\"append\")"
   ]
  },
  {
   "cell_type": "code",
   "execution_count": 14,
   "metadata": {},
   "outputs": [],
   "source": [
    "#Question 9\n",
    "query_results = spark.sql('SELECT r_os, COUNT(r_os) AS count FROM packages GROUP BY r_os ')\\\n",
    "    .write.format(\"org.apache.spark.sql.cassandra\")\\\n",
    "    .options(table=\"question09\",keyspace=\"assignment_02\")\\\n",
    "    .save(mode=\"append\")"
   ]
  },
  {
   "cell_type": "code",
   "execution_count": 15,
   "metadata": {},
   "outputs": [],
   "source": [
    "#Question 10\n",
    "query_results = spark.sql('SELECT country, COUNT(package) AS count  FROM packages GROUP BY country ')\\\n",
    "    .write.format(\"org.apache.spark.sql.cassandra\")\\\n",
    "    .options(table=\"question10\",keyspace=\"assignment_02\")\\\n",
    "    .save(mode=\"append\")"
   ]
  },
  {
   "cell_type": "code",
   "execution_count": 19,
   "metadata": {},
   "outputs": [],
   "source": [
    "# Question 2\n",
    "query_results = spark.sql('SELECT country,COUNT(package) AS count FROM packages GROUP BY country ORDER BY COUNT(package) DESC LIMIT 10' )\\\n",
    "    .write.format(\"org.apache.spark.sql.cassandra\")\\\n",
    "    .options(table=\"question02\",keyspace=\"assignment_02\")\\\n",
    "    .save(mode=\"append\")"
   ]
  },
  {
   "cell_type": "code",
   "execution_count": null,
   "metadata": {},
   "outputs": [],
   "source": []
  }
 ],
 "metadata": {
  "kernelspec": {
   "display_name": "Python 3",
   "language": "python",
   "name": "python3"
  },
  "language_info": {
   "codemirror_mode": {
    "name": "ipython",
    "version": 3
   },
   "file_extension": ".py",
   "mimetype": "text/x-python",
   "name": "python",
   "nbconvert_exporter": "python",
   "pygments_lexer": "ipython3",
   "version": "3.5.2"
  }
 },
 "nbformat": 4,
 "nbformat_minor": 2
}
